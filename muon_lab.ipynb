{
 "cells": [
  {
   "cell_type": "markdown",
   "metadata": {},
   "source": [
    "# Muon Lifetime Lab\n",
    "### Miles Lucas - Phys 322L - Iowa State University\n",
    "\n",
    "This lab seeks to find the mean life of cosmic muons incident on Earth's surface. Theoretically, this relationship can be represented by \n",
    "$$\n",
    "N(t) = N = N_0 e^{-k\\cdot t}\n",
    "$$\n",
    "\n",
    "The mean life of the muon is $\\tau_0 = 1 / k$ where $k$ can be found via the following data analysis"
   ]
  },
  {
   "cell_type": "code",
   "execution_count": 1,
   "metadata": {
    "collapsed": false
   },
   "outputs": [],
   "source": [
    "# Imports and parameter setting\n",
    "\n",
    "import numpy as np\n",
    "import pandas as pd\n",
    "import matplotlib as mpl\n",
    "import matplotlib.pyplot as plt\n",
    "import statsmodels.formula.api as smf\n",
    "from statsmodels.sandbox.regression.predstd import wls_prediction_std\n",
    "\n",
    "%matplotlib inline\n",
    "plt.style.use('seaborn-notebook')\n",
    "width = 3.404\n",
    "height = width * .9\n",
    "params = {\n",
    "    'xtick.labelsize':8,\n",
    "    'ytick.labelsize':8,\n",
    "    'axes.labelsize':8,\n",
    "    'legend.fontsize':8,\n",
    "    'font.family':'serif',\n",
    "}\n",
    "mpl.rcParams.update(params)"
   ]
  },
  {
   "cell_type": "markdown",
   "metadata": {},
   "source": [
    "## Calibration Data\n",
    "\n",
    "Because all of our timed data is binned by the signal interface into channels, we had to find the relationship between bin number and time. Using a delay module, we introduced known delays and correlated them to bin number. The following data finds a linear fit so that we can find the time interval associated with every channel for later analysis"
   ]
  },
  {
   "cell_type": "code",
   "execution_count": 2,
   "metadata": {
    "collapsed": false
   },
   "outputs": [],
   "source": [
    "try:\n",
    "    calib = pd.read_csv('calib.csv', header=0, names=['Interval', 'Channel'])\n",
    "except FileNotFoundError:\n",
    "    print('Calibration file not found')"
   ]
  },
  {
   "cell_type": "code",
   "execution_count": 3,
   "metadata": {
    "collapsed": false
   },
   "outputs": [
    {
     "name": "stdout",
     "output_type": "stream",
     "text": [
      "                            OLS Regression Results                            \n",
      "==============================================================================\n",
      "Dep. Variable:               Interval   R-squared:                       1.000\n",
      "Model:                            OLS   Adj. R-squared:                  1.000\n",
      "Method:                 Least Squares   F-statistic:                 8.639e+04\n",
      "Date:                Sun, 23 Apr 2017   Prob (F-statistic):           3.09e-26\n",
      "Time:                        20:44:46   Log-Likelihood:                 43.574\n",
      "No. Observations:                  15   AIC:                            -83.15\n",
      "Df Residuals:                      13   BIC:                            -81.73\n",
      "Df Model:                           1                                         \n",
      "Covariance Type:            nonrobust                                         \n",
      "==============================================================================\n",
      "                 coef    std err          t      P>|t|      [95.0% Conf. Int.]\n",
      "------------------------------------------------------------------------------\n",
      "Intercept     -0.1182      0.008    -14.617      0.000        -0.136    -0.101\n",
      "Channel        0.0039   1.34e-05    293.925      0.000         0.004     0.004\n",
      "==============================================================================\n",
      "Omnibus:                        2.666   Durbin-Watson:                   1.167\n",
      "Prob(Omnibus):                  0.264   Jarque-Bera (JB):                1.827\n",
      "Skew:                          -0.834   Prob(JB):                        0.401\n",
      "Kurtosis:                       2.626   Cond. No.                     1.33e+03\n",
      "==============================================================================\n",
      "\n",
      "Warnings:\n",
      "[1] Standard Errors assume that the covariance matrix of the errors is correctly specified.\n",
      "[2] The condition number is large, 1.33e+03. This might indicate that there are\n",
      "strong multicollinearity or other numerical problems.\n"
     ]
    },
    {
     "name": "stderr",
     "output_type": "stream",
     "text": [
      "C:\\Users\\drumm\\Anaconda3\\lib\\site-packages\\scipy\\stats\\stats.py:1327: UserWarning: kurtosistest only valid for n>=20 ... continuing anyway, n=15\n",
      "  \"anyway, n=%i\" % int(n))\n"
     ]
    }
   ],
   "source": [
    "res = smf.ols('Interval ~ Channel', data=calib).fit()\n",
    "print(res.summary())\n",
    "res.params\n",
    "b, a = res.params\n",
    "f = lambda c: a * c + b"
   ]
  },
  {
   "cell_type": "code",
   "execution_count": 4,
   "metadata": {
    "collapsed": false
   },
   "outputs": [
    {
     "data": {
      "image/png": "[encoded data removed]",
      "text/plain": [
       "<matplotlib.figure.Figure at 0x25f324e5b70>"
      ]
     },
     "metadata": {},
     "output_type": "display_data"
    }
   ],
   "source": [
    "plt.xlabel('Channel')\n",
    "plt.ylabel('Delay Interval ($\\mu s$)')\n",
    "\n",
    "plt.plot(calib['Channel'], calib['Interval'], 'C0o', ms=4,label='Data')\n",
    "plt.plot(calib['Channel'], res.fittedvalues, 'C0--', linewidth=1, label='Predicted')\n",
    "plt.legend(loc='best');\n",
    "\n",
    "plt.gcf().set_size_inches(width, height)\n",
    "plt.tight_layout()\n",
    "plt.savefig('calib.pdf')"
   ]
  },
  {
   "cell_type": "markdown",
   "metadata": {},
   "source": [
    "## Applying to data\n",
    "\n",
    "Now that we know the time intervals for each channel, we import our data and look at the relationship between counts and time. This ought to be an exponential relationship from our theoretical model. However, it is much more accurate to use a linear fit for our analysis, as non-linear fits can be very erratic. Our model is easy to linearize, though. Our model can be transformed into this linear model\n",
    "$$\n",
    "ln(N) = ln(N_0 e^{-k t}) = -kt + ln(N_0)\n",
    "$$\n",
    "When we do a linear fit for this model, we see that our slope is $-k$, and the intercept is $ln(N_0)$. \n",
    "\n",
    "One problem with our data, though, is that there are many counts of 0, which have no logarithmic value. To combat this, we do two things. First, we remove all the zeros at the head of the dataset, which is okay because a pure exponential decay will naturally start at its highest value and won't ramp up from some value. Second, we apply an exponentially-weighted moving average. This allows the zero-counts at the tail of the data to affect our fit (as opposed to just remove all 0-count entries) without running into issues with finding the logarithm of 0."
   ]
  },
  {
   "cell_type": "code",
   "execution_count": 5,
   "metadata": {
    "collapsed": false
   },
   "outputs": [],
   "source": [
    "try:\n",
    "    run1 = pd.read_csv('Exp3_Tue_1day_RUN1.csv', header=0)\n",
    "    run2 = pd.read_csv('Exp3_Tue_4day_RUN2.csv', header=0)\n",
    "    run3 = pd.read_csv('Exp3_Tue_3wk_RUN3.csv', header=0)\n",
    "except FileNotFoundError:\n",
    "    print('Data file not found')\n",
    "\n",
    "#Combine data files\n",
    "test_data = run1.copy()\n",
    "test_data['Counts'] = test_data['Counts'] + run2['Counts'] + run3['Counts']\n",
    "    \n",
    "# Get first non-zero count, start data series from here\n",
    "nzi = next((i for i, x in enumerate(test_data['Counts']) if x>0.0), None)\n",
    "test_data = test_data[(test_data.index > nzi)]\n",
    "test_data['Time'] = f(test_data['Channel'])\n",
    "\n",
    "# Get an exponential moving average to allow linearization of 0 values\n",
    "test_data['ewma'] = test_data['Counts'].ewm(span=max(test_data['Time'])).mean()"
   ]
  },
  {
   "cell_type": "code",
   "execution_count": 6,
   "metadata": {
    "collapsed": false
   },
   "outputs": [
    {
     "name": "stdout",
     "output_type": "stream",
     "text": [
      "                            OLS Regression Results                            \n",
      "==============================================================================\n",
      "Dep. Variable:           np.log(ewma)   R-squared:                       0.975\n",
      "Model:                            OLS   Adj. R-squared:                  0.975\n",
      "Method:                 Least Squares   F-statistic:                 7.965e+04\n",
      "Date:                Sun, 23 Apr 2017   Prob (F-statistic):               0.00\n",
      "Time:                        20:44:46   Log-Likelihood:                 703.68\n",
      "No. Observations:                2012   AIC:                            -1403.\n",
      "Df Residuals:                    2010   BIC:                            -1392.\n",
      "Df Model:                           1                                         \n",
      "Covariance Type:            nonrobust                                         \n",
      "==============================================================================\n",
      "                 coef    std err          t      P>|t|      [95.0% Conf. Int.]\n",
      "------------------------------------------------------------------------------\n",
      "Intercept      4.4481      0.008    582.225      0.000         4.433     4.463\n",
      "Time          -0.4692      0.002   -282.229      0.000        -0.472    -0.466\n",
      "==============================================================================\n",
      "Omnibus:                     1852.316   Durbin-Watson:                   0.396\n",
      "Prob(Omnibus):                  0.000   Jarque-Bera (JB):           454739.035\n",
      "Skew:                          -3.623   Prob(JB):                         0.00\n",
      "Kurtosis:                      76.293   Cond. No.                         9.56\n",
      "==============================================================================\n",
      "\n",
      "Warnings:\n",
      "[1] Standard Errors assume that the covariance matrix of the errors is correctly specified.\n"
     ]
    }
   ],
   "source": [
    "res2 = smf.ols(formula='np.log(ewma) ~ Time', data=test_data).fit()\n",
    "print(res2.summary())\n",
    "\n",
    "A, k = res2.params\n",
    "c = -1/k"
   ]
  },
  {
   "cell_type": "code",
   "execution_count": 22,
   "metadata": {
    "collapsed": false
   },
   "outputs": [
    {
     "data": {
      "image/png": "[encoded data removed]",
      "text/plain": [
       "<matplotlib.figure.Figure at 0x25f33f51da0>"
      ]
     },
     "metadata": {},
     "output_type": "display_data"
    }
   ],
   "source": [
    "plt.xlim(0, max(test_data['Time']))\n",
    "plt.xlabel('Time ($\\mu s$)')\n",
    "plt.ylabel('Counts')\n",
    "\n",
    "prstd, iv_l, iv_u = np.exp(wls_prediction_std(res2))\n",
    "t = test_data['Time']\n",
    "\n",
    "plt.plot(t, test_data['Counts'], linewidth=1, label='Data')\n",
    "plt.plot(t, test_data['ewma'], c='C2', linewidth=1, label='EWMA')\n",
    "plt.plot(t, np.exp(res2.fittedvalues), c='C3', linewidth=1, label='Predicted')\n",
    "# plt.fill_between(t, iv_l, iv_u, alpha=0.50, color='C3', linewidth=1)\n",
    "plt.plot(t, iv_u, 'C3--', linewidth=1)\n",
    "plt.plot(t, iv_l, 'C3--', linewidth=1)\n",
    "plt.legend(loc='best')\n",
    "\n",
    "plt.gcf().set_size_inches(width, height)\n",
    "plt.tight_layout()\n",
    "plt.gcf().savefig('data_fit.pdf')"
   ]
  },
  {
   "cell_type": "code",
   "execution_count": null,
   "metadata": {
    "collapsed": false
   },
   "outputs": [],
   "source": [
    "actual = 2.22\n",
    "error = np.abs(actual - c) / actual * 100\n",
    "print('Time constant fit value: {}\\nTime constant actual value: {}\\nError: {}%'.format(c, actual, error))"
   ]
  },
  {
   "cell_type": "code",
   "execution_count": null,
   "metadata": {
    "collapsed": true
   },
   "outputs": [],
   "source": []
  }
 ],
 "metadata": {
  "kernelspec": {
   "display_name": "Python 3",
   "language": "python",
   "name": "python3"
  },
  "language_info": {
   "codemirror_mode": {
    "name": "ipython",
    "version": 3
   },
   "file_extension": ".py",
   "mimetype": "text/x-python",
   "name": "python",
   "nbconvert_exporter": "python",
   "pygments_lexer": "ipython3",
   "version": "3.6.0"
  }
 },
 "nbformat": 4,
 "nbformat_minor": 2
}
