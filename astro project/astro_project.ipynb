{
 "cells": [
  {
   "cell_type": "markdown",
   "metadata": {},
   "source": [
    "# Astro Project"
   ]
  },
  {
   "cell_type": "code",
   "execution_count": 1,
   "metadata": {
    "collapsed": false
   },
   "outputs": [],
   "source": [
    "# Imports and parameter setting\n",
    "\n",
    "import numpy as np\n",
    "import pandas as pd\n",
    "import matplotlib as mpl\n",
    "import matplotlib.pyplot as plt\n",
    "from astropy.io import fits\n",
    "\n",
    "\n",
    "%matplotlib inline\n",
    "plt.style.use('seaborn-paper')\n",
    "width = 3.404\n",
    "height = width * .9\n",
    "params = {\n",
    "    'xtick.labelsize':8,\n",
    "    'ytick.labelsize':8,\n",
    "    'axes.labelsize':8,\n",
    "    'legend.fontsize':8,\n",
    "    'font.family':'serif',\n",
    "}\n",
    "mpl.rcParams.update(params)"
   ]
  },
  {
   "cell_type": "code",
   "execution_count": 2,
   "metadata": {
    "collapsed": false
   },
   "outputs": [
    {
     "name": "stdout",
     "output_type": "stream",
     "text": [
      "       #  Mass/Ms  Teff(K)  Log(L/Ls)      Log        g    Mbol      Mv  \\\n",
      "0   0.20   3522.5  -2.1828     5.0613  10.2011  11.7609  1.6220  2.4345   \n",
      "1   0.25   3575.7  -2.0246     5.0261   9.8056  11.2885  1.6018  2.3630   \n",
      "2   0.30   3617.0  -1.8975     4.9981   9.4878  10.9132  1.5848  2.3081   \n",
      "3   0.35   3666.9  -1.7783     4.9697   9.1899  10.5494  1.5634  2.2446   \n",
      "4   0.40   3739.8  -1.6446     4.9282   8.8557  10.1254  1.5314  2.1588   \n",
      "5   0.45   3826.6  -1.5031     4.8777   8.5018   9.6544  1.4969  2.0758   \n",
      "6   0.50   3928.1  -1.3574     4.8232   8.1376   9.1598  1.4569  1.9875   \n",
      "7   0.55   4061.2  -1.2029     4.7680   7.7513   8.6340  1.3854  1.7207   \n",
      "8   0.60   4218.8  -1.0476     4.7167   7.3632   8.1241  1.2693  1.4680   \n",
      "9   0.65   4399.8  -0.8960     4.6728   6.9843   7.6292  1.1506  1.2764   \n",
      "10  0.70   4626.0  -0.7478     4.6438   6.6135   7.1037  1.0316  1.1130   \n",
      "11  0.75   4884.1  -0.6052     4.6256   6.2573   6.5924  0.9191  0.9715   \n",
      "12  0.80   5144.1  -0.4711     4.6096   5.9219   6.1762  0.8289  0.8838   \n",
      "13  0.85   5397.1  -0.3448     4.5930   5.6062   5.8097  0.7466  0.8081   \n",
      "14  0.90   5636.0  -0.2256     4.5738   5.3081   5.4662  0.6667  0.7411   \n",
      "15  0.95   5837.1  -0.1133     4.5459   5.0274   5.1582  0.6022  0.6819   \n",
      "16  1.00   6005.2  -0.0068     4.5110   4.7611   4.8754  0.5513  0.6384   \n",
      "17  1.05   6163.1   0.0951     4.4754   4.5065   4.5991  0.5052  0.6008   \n",
      "18  1.10   6314.1   0.1922     4.4406   4.2637   4.3365  0.4643  0.5675   \n",
      "19  1.15   6463.5   0.2845     4.4082   4.0328   4.0896  0.4294  0.5349   \n",
      "20  1.20   6613.8   0.3722     4.3789   3.8135   3.8574  0.4021  0.5038   \n",
      "21  1.25   6777.1   0.4555     4.3557   3.6054   3.6397  0.3748  0.4647   \n",
      "22  1.30   6968.1   0.5344     4.3421   3.4081   3.4375  0.3355  0.4219   \n",
      "23  1.40   7449.5   0.6803     4.3445   3.0435   3.0634  0.2655  0.3422   \n",
      "24  1.50   7957.6   0.8117     4.3576   2.7148   2.7481  0.2041  0.2594   \n",
      "25  1.60   8417.1   0.9311     4.3638   2.4164   2.4663  0.1654  0.1894   \n",
      "26  1.70   8830.3   1.0409     4.3636   2.1419   2.2352  0.1196  0.1299   \n",
      "27  1.80   9203.9   1.1431     4.3582   1.8864   2.0361  0.0820  0.0856   \n",
      "28  1.90   9553.0   1.2397     4.3497   1.6449   1.8572  0.0469  0.0512   \n",
      "29  2.00   9879.4   1.3315     4.3386   1.4154   1.6908  0.0227  0.0296   \n",
      "30  2.10  10190.1   1.4196     4.3255   1.1952   1.5326  0.0034  0.0174   \n",
      "31  2.20  10475.4   1.5029     4.3103   0.9868   1.3825 -0.0110  0.0104   \n",
      "32  2.30  10744.8   1.5839     4.2927   0.7844   1.2355 -0.0218  0.0041   \n",
      "33  2.40  10997.4   1.6609     4.2746   0.5919   1.0949 -0.0296 -0.0008   \n",
      "34  2.50  11236.2   1.7379     4.2527   0.3994   0.9507 -0.0352 -0.0034   \n",
      "35  2.60  11455.1   1.8110     4.2301   0.2167   0.8118 -0.0395 -0.0042   \n",
      "36  2.70  11659.8   1.8829     4.2053   0.0368   0.6728 -0.0441 -0.0052   \n",
      "37  2.80  11838.5   1.9535     4.1770  -0.1396   0.5319 -0.0494 -0.0074   \n",
      "38  2.90  11987.2   2.0218     4.1456  -0.3103   0.3905 -0.0547 -0.0101   \n",
      "39  3.00  12118.3   2.0878     4.1132  -0.4753   0.2511 -0.0593 -0.0128   \n",
      "40  4.00    -99.0 -99.0000   -99.0000   0.0000   0.0000  0.0000  0.0000   \n",
      "41  5.00    -99.0 -99.0000   -99.0000   0.0000   0.0000  0.0000  0.0000   \n",
      "42  6.00    -99.0 -99.0000   -99.0000   0.0000   0.0000  0.0000  0.0000   \n",
      "43  7.00    -99.0 -99.0000   -99.0000   0.0000   0.0000  0.0000  0.0000   \n",
      "44  8.00    -99.0 -99.0000   -99.0000   0.0000   0.0000  0.0000  0.0000   \n",
      "\n",
      "       B-V    V-Ic     V-K  J-K  H-K  \n",
      "0   4.3117  0.8615  0.2374  NaN  NaN  \n",
      "1   4.2158  0.8539  0.2307  NaN  NaN  \n",
      "2   4.1467  0.8470  0.2271  NaN  NaN  \n",
      "3   4.0691  0.8379  0.2240  NaN  NaN  \n",
      "4   3.9630  0.8238  0.2202  NaN  NaN  \n",
      "5   3.7981  0.8069  0.2115  NaN  NaN  \n",
      "6   3.6081  0.7896  0.1976  NaN  NaN  \n",
      "7   3.3732  0.7716  0.1755  NaN  NaN  \n",
      "8   3.0928  0.7529  0.1510  NaN  NaN  \n",
      "9   2.8427  0.7107  0.1378  NaN  NaN  \n",
      "10  2.5418  0.6438  0.1295  NaN  NaN  \n",
      "11  2.2331  0.5593  0.1187  NaN  NaN  \n",
      "12  2.0133  0.5010  0.1088  NaN  NaN  \n",
      "13  1.8307  0.4449  0.1011  NaN  NaN  \n",
      "14  1.6613  0.3813  0.0889  NaN  NaN  \n",
      "15  1.5334  0.3398  0.0810  NaN  NaN  \n",
      "16  1.4483  0.3151  0.0796  NaN  NaN  \n",
      "17  1.3396  0.2866  0.0750  NaN  NaN  \n",
      "18  1.2416  0.2570  0.0700  NaN  NaN  \n",
      "19  1.1568  0.2278  0.0656  NaN  NaN  \n",
      "20  1.0741  0.2030  0.0624  NaN  NaN  \n",
      "21  0.9774  0.1828  0.0595  NaN  NaN  \n",
      "22  0.8929  0.1634  0.0558  NaN  NaN  \n",
      "23  0.7118  0.1210  0.0488  NaN  NaN  \n",
      "24  0.5041  0.0793  0.0414  NaN  NaN  \n",
      "25  0.3695  0.0448  0.0361  NaN  NaN  \n",
      "26  0.2630  0.0167  0.0342  NaN  NaN  \n",
      "27  0.1672 -0.0084  0.0305  NaN  NaN  \n",
      "28  0.0918 -0.0276  0.0270  NaN  NaN  \n",
      "29  0.0417 -0.0383  0.0230  NaN  NaN  \n",
      "30  0.0148 -0.0421  0.0192  NaN  NaN  \n",
      "31 -0.0015 -0.0426  0.0154  NaN  NaN  \n",
      "32 -0.0176 -0.0428  0.0119  NaN  NaN  \n",
      "33 -0.0320 -0.0427  0.0088  NaN  NaN  \n",
      "34 -0.0428 -0.0422  0.0062  NaN  NaN  \n",
      "35 -0.0503 -0.0416  0.0040  NaN  NaN  \n",
      "36 -0.0582 -0.0421  0.0020  NaN  NaN  \n",
      "37 -0.0683 -0.0437  0.0003  NaN  NaN  \n",
      "38 -0.0794 -0.0459 -0.0011  NaN  NaN  \n",
      "39 -0.0899 -0.0481 -0.0023  NaN  NaN  \n",
      "40  0.0000  0.0000  0.0000  NaN  NaN  \n",
      "41  0.0000  0.0000  0.0000  NaN  NaN  \n",
      "42  0.0000  0.0000  0.0000  NaN  NaN  \n",
      "43  0.0000  0.0000  0.0000  NaN  NaN  \n",
      "44  0.0000  0.0000  0.0000  NaN  NaN  \n",
      "       #  Mass/Ms  Teff(K)  Log(L/Ls)      Log        g    Mbol      Mv  \\\n",
      "0   0.20   3523.1  -2.2032     5.0820  10.2521  11.8116  1.6226  2.4351   \n",
      "1   0.25   3576.6  -2.0379     5.0398   9.8389  11.3215  1.6019  2.3631   \n",
      "2   0.30   3617.7  -1.9066     5.0076   9.5108  10.9358  1.5847  2.3080   \n",
      "3   0.35   3663.1  -1.7850     4.9746   9.2067  10.5711  1.5651  2.2494   \n",
      "4   0.40   3731.6  -1.6506     4.9303   8.8706  10.1500  1.5350  2.1678   \n",
      "5   0.45   3814.7  -1.5072     4.8763   8.5121   9.6809  1.5017  2.0864   \n",
      "6   0.50   3920.1  -1.3569     4.8192   8.1363   9.1687  1.4602  1.9943   \n",
      "7   0.55   4056.4  -1.2018     4.7649   7.7487   8.6358  1.3889  1.7360   \n",
      "8   0.60   4214.6  -1.0471     4.7144   7.3620   8.1259  1.2724  1.4740   \n",
      "9   0.65   4393.6  -0.8959     4.6702   6.9839   7.6325  1.1541  1.2810   \n",
      "10  0.70   4621.2  -0.7469     4.6412   6.6114   7.1050  1.0339  1.1163   \n",
      "11  0.75   4882.2  -0.6039     4.6236   6.2539   6.5898  0.9199  0.9722   \n",
      "12  0.80   5143.3  -0.4694     4.6076   5.9177   6.1721  0.8291  0.8841   \n",
      "13  0.85   5398.5  -0.3426     4.5913   5.6007   5.8040  0.7461  0.8077   \n",
      "14  0.90   5638.4  -0.2231     4.5721   5.3020   5.4596  0.6659  0.7403   \n",
      "15  0.95   5839.3  -0.1106     4.5439   5.0207   5.1512  0.6015  0.6814   \n",
      "16  1.00   6007.4  -0.0038     4.5086   4.7536   4.8676  0.5506  0.6379   \n",
      "17  1.05   6165.7   0.0984     4.4728   4.4981   4.5903  0.5044  0.6002   \n",
      "18  1.10   6317.2   0.1959     4.4377   4.2543   4.3267  0.4635  0.5668   \n",
      "19  1.15   6466.2   0.2887     4.4047   4.0223   4.0788  0.4288  0.5343   \n",
      "20  1.20   6616.8   0.3769     4.3750   3.8019   3.8454  0.4016  0.5031   \n",
      "21  1.25   6780.9   0.4606     4.3516   3.5926   3.6267  0.3740  0.4636   \n",
      "22  1.30   6972.3   0.5400     4.3376   3.3942   3.4234  0.3346  0.4209   \n",
      "23  1.40   7452.7   0.6866     4.3389   3.0277   3.0474  0.2648  0.3416   \n",
      "24  1.50   7950.1   0.8187     4.3490   2.6975   2.7303  0.2043  0.2602   \n",
      "25  1.60   8392.4   0.9387     4.3511   2.3975   2.4453  0.1666  0.1921   \n",
      "26  1.70   8785.7   1.0495     4.3462   2.1205   2.2075  0.1225  0.1350   \n",
      "27  1.80   9138.3   1.1531     4.3357   1.8613   2.0000  0.0873  0.0922   \n",
      "28  1.90   9468.8   1.2518     4.3222   1.6146   1.8111  0.0521  0.0577   \n",
      "29  2.00   9775.1   1.3454     4.3063   1.3808   1.6358  0.0274  0.0349   \n",
      "30  2.10  10061.8   1.4368     4.2863   1.1522   1.4639  0.0079  0.0210   \n",
      "31  2.20  10319.3   1.5224     4.2647   0.9382   1.3020 -0.0067  0.0136   \n",
      "32  2.30  10540.7   1.6075     4.2359   0.7255   1.1349 -0.0177  0.0084   \n",
      "33  2.40  10757.8   1.6871     4.2102   0.5265   0.9806 -0.0262  0.0035   \n",
      "34  2.50  10930.6   1.7696     4.1730   0.3201   0.8097 -0.0325  0.0001   \n",
      "35  2.60  11057.8   1.8466     4.1332   0.1278   0.6433 -0.0368 -0.0018   \n",
      "36  2.70  11160.4   1.9232     4.0890  -0.0638   0.4724 -0.0403 -0.0028   \n",
      "37  2.80  11190.2   1.9989     4.0337  -0.2531   0.2891 -0.0426 -0.0029   \n",
      "38  2.90  11114.5   2.0721     3.9639  -0.4360   0.0911 -0.0439 -0.0021   \n",
      "39  3.00  10983.2   2.1427     3.8875  -0.6126  -0.1119 -0.0443 -0.0005   \n",
      "40  4.00    -99.0 -99.0000   -99.0000   0.0000   0.0000  0.0000  0.0000   \n",
      "41  5.00    -99.0 -99.0000   -99.0000   0.0000   0.0000  0.0000  0.0000   \n",
      "42  6.00    -99.0 -99.0000   -99.0000   0.0000   0.0000  0.0000  0.0000   \n",
      "43  7.00    -99.0 -99.0000   -99.0000   0.0000   0.0000  0.0000  0.0000   \n",
      "44  8.00    -99.0 -99.0000   -99.0000   0.0000   0.0000  0.0000  0.0000   \n",
      "\n",
      "       B-V    V-Ic     V-K  J-K  H-K  \n",
      "0   4.3107  0.8613  0.2375  NaN  NaN  \n",
      "1   4.2150  0.8537  0.2306  NaN  NaN  \n",
      "2   4.1462  0.8469  0.2271  NaN  NaN  \n",
      "3   4.0749  0.8386  0.2242  NaN  NaN  \n",
      "4   3.9746  0.8254  0.2206  NaN  NaN  \n",
      "5   3.8219  0.8094  0.2127  NaN  NaN  \n",
      "6   3.6233  0.7915  0.1984  NaN  NaN  \n",
      "7   3.3829  0.7727  0.1761  NaN  NaN  \n",
      "8   3.0981  0.7537  0.1514  NaN  NaN  \n",
      "9   2.8509  0.7125  0.1380  NaN  NaN  \n",
      "10  2.5481  0.6454  0.1296  NaN  NaN  \n",
      "11  2.2349  0.5598  0.1188  NaN  NaN  \n",
      "12  2.0138  0.5012  0.1088  NaN  NaN  \n",
      "13  1.8297  0.4445  0.1011  NaN  NaN  \n",
      "14  1.6596  0.3807  0.0887  NaN  NaN  \n",
      "15  1.5322  0.3395  0.0810  NaN  NaN  \n",
      "16  1.4469  0.3147  0.0796  NaN  NaN  \n",
      "17  1.3378  0.2862  0.0749  NaN  NaN  \n",
      "18  1.2398  0.2565  0.0700  NaN  NaN  \n",
      "19  1.1554  0.2273  0.0656  NaN  NaN  \n",
      "20  1.0721  0.2025  0.0624  NaN  NaN  \n",
      "21  0.9752  0.1823  0.0595  NaN  NaN  \n",
      "22  0.8910  0.1629  0.0558  NaN  NaN  \n",
      "23  0.7103  0.1207  0.0489  NaN  NaN  \n",
      "24  0.5065  0.0799  0.0416  NaN  NaN  \n",
      "25  0.3746  0.0464  0.0363  NaN  NaN  \n",
      "26  0.2742  0.0197  0.0344  NaN  NaN  \n",
      "27  0.1823 -0.0044  0.0314  NaN  NaN  \n",
      "28  0.1077 -0.0238  0.0278  NaN  NaN  \n",
      "29  0.0549 -0.0359  0.0241  NaN  NaN  \n",
      "30  0.0238 -0.0411  0.0206  NaN  NaN  \n",
      "31  0.0069 -0.0425  0.0172  NaN  NaN  \n",
      "32 -0.0054 -0.0429  0.0141  NaN  NaN  \n",
      "33 -0.0183 -0.0430  0.0112  NaN  NaN  \n",
      "34 -0.0283 -0.0431  0.0090  NaN  NaN  \n",
      "35 -0.0348 -0.0428  0.0073  NaN  NaN  \n",
      "36 -0.0393 -0.0426  0.0060  NaN  NaN  \n",
      "37 -0.0404 -0.0426  0.0053  NaN  NaN  \n",
      "38 -0.0369 -0.0430  0.0057  NaN  NaN  \n",
      "39 -0.0303 -0.0432  0.0066  NaN  NaN  \n",
      "40  0.0000  0.0000  0.0000  NaN  NaN  \n",
      "41  0.0000  0.0000  0.0000  NaN  NaN  \n",
      "42  0.0000  0.0000  0.0000  NaN  NaN  \n",
      "43  0.0000  0.0000  0.0000  NaN  NaN  \n",
      "44  0.0000  0.0000  0.0000  NaN  NaN  \n"
     ]
    }
   ],
   "source": [
    "# Get data\n",
    "try:\n",
    "    hdulist = fits.open('data/m35.fit')\n",
    "    isosmaller = pd.read_table('data/iso1.tsv', header = 1, delim_whitespace=True)\n",
    "    isolarger = pd.read_table('data/iso2.tsv', header = 1, delim_whitespace=True)\n",
    "except FileNotFoundError:\n",
    "    print('Data file missing')\n",
    "    \n",
    "print(isosmaller)\n",
    "print(isolarger)"
   ]
  },
  {
   "cell_type": "markdown",
   "metadata": {
    "collapsed": false
   },
   "source": [
    "In order to prepare our isochrone data, which is given in absolute visual magnitude and actual color, by correcting for reddening and extinction. For our B-V data, we have from Sung, 99, reddening at 0.255 and a distance modulus of 9.6. We can then find the extinction using\n",
    "$$\n",
    "A_V=3.086\\cdot E(B-V)\n",
    "$$\n",
    "This means we can find the visual magnitude via the following\n",
    "$$\n",
    "V_{obs}=M_V + 5 log(D) + 5 + A_V\n",
    "$$\n",
    "So you can see that our isochrone can be fit by taking our distance modulus and extinction and adding it to the Mv data. We can correct our B-V using the reddening. For the other color indexes we can correct the color by finding the difference in $A_\\lambda$ and $A_V$ which can be written using only $A_V$ using the Johnson-Cousins photometric table. "
   ]
  },
  {
   "cell_type": "code",
   "execution_count": 3,
   "metadata": {
    "collapsed": false
   },
   "outputs": [],
   "source": [
    "data = pd.DataFrame(hdulist[1].data)\n",
    "isochrone = pd.DataFrame(hdulist[3].data)\n",
    "\n",
    "ebv = 0.255\n",
    "Av = 3.086 * ebv\n",
    "evi = Av * (1 - 0.482)\n",
    "eub = .024 * (1.531 - 1.324)\n",
    "\n",
    "isochrone['V'] = isochrone['Mv']+9.6+Av\n",
    "isochrone['B-V(cor)'] = isochrone['B-V']+ebv\n",
    "isochrone['V-I(cor)'] = isochrone['V-Ic']+evi\n",
    "mask = isochrone['V'] < max(data['Vmag'])\n",
    "\n",
    "isosmaller['V'] = isosmaller['Mv']+9.6+Av\n",
    "isosmaller['B-V(cor)'] = isosmaller['B-V']+ebv\n",
    "isosmaller['V-I(cor)'] = isosmaller['V-Ic']+evi\n",
    "mask2 = isosmaller['V'] < max(data['Vmag'])\n",
    "\n",
    "isolarger['V'] = isolarger['Mv']+9.6+Av\n",
    "isolarger['B-V(cor)'] = isolarger['B-V']+ebv\n",
    "isolarger['V-I(cor)'] = isolarger['V-Ic']+evi\n",
    "mask3 = isolarger['V'] < max(data['Vmag'])"
   ]
  },
  {
   "cell_type": "code",
   "execution_count": 11,
   "metadata": {
    "collapsed": false
   },
   "outputs": [
    {
     "data": {
      "image/png": "[encoded data removed]",
      "text/plain": [
       "<matplotlib.figure.Figure at 0x17356308630>"
      ]
     },
     "metadata": {},
     "output_type": "display_data"
    }
   ],
   "source": [
    "style = dict(color='k',ms=1.5, alpha=0.75, label='Sung (99)')\n",
    "\n",
    "plt.plot('B-V', 'Vmag', 'o', data=data, **style)\n",
    "plt.gca().invert_yaxis()\n",
    "plt.xlabel('B-V (mag)')\n",
    "plt.ylabel('V (mag)')\n",
    "plt.legend(loc='best', frameon=True)\n",
    "\n",
    "plt.gcf().set_size_inches(width, height)\n",
    "plt.tight_layout()\n",
    "plt.gcf().savefig('figs/b-v.pdf')\n",
    "\n",
    "plt.plot(isochrone['B-V(cor)'], isochrone['V'].where(mask), linewidth=1.5, label='An (07)')\n",
    "# plt.plot(isolarger['B-V(cor)'], isolarger['V'].where(mask2), linewidth=1.5, label='An (07)')\n",
    "# plt.plot(isosmaller['B-V(cor)'], isosmaller['V'].where(mask3), linewidth=1.5, label='An (07)')\n",
    "\n",
    "plt.legend(loc='best', frameon=True)\n",
    "# plt.legend?\n",
    "\n",
    "plt.gcf().set_size_inches(width, height)\n",
    "plt.tight_layout()\n",
    "plt.gcf().savefig('figs/b-vISO.pdf')"
   ]
  },
  {
   "cell_type": "code",
   "execution_count": 5,
   "metadata": {
    "collapsed": false
   },
   "outputs": [
    {
     "data": {
      "image/png": "[encoded data removed]",
      "text/plain": [
       "<matplotlib.figure.Figure at 0x17355b79ef0>"
      ]
     },
     "metadata": {},
     "output_type": "display_data"
    }
   ],
   "source": [
    "plt.plot('V-I', 'Vmag', 'o', data=data, **style)\n",
    "plt.gca().invert_yaxis()\n",
    "plt.xlabel('V-I (mag)')\n",
    "plt.ylabel('V (mag)')\n",
    "plt.legend(loc='best', frameon=True)\n",
    "\n",
    "plt.gcf().set_size_inches(width, height)\n",
    "plt.tight_layout()\n",
    "plt.gcf().savefig('figs/v-i.pdf')\n",
    "\n",
    "\n",
    "plt.plot(isochrone['V-I(cor)'], isochrone['V'].where(mask), linewidth=1.5, label='An (07)')\n",
    "plt.legend(loc='best', frameon=True)\n",
    "\n",
    "plt.gcf().set_size_inches(width, height)\n",
    "plt.tight_layout()\n",
    "plt.gcf().savefig('figs/v-iISO.pdf')"
   ]
  },
  {
   "cell_type": "code",
   "execution_count": 6,
   "metadata": {
    "collapsed": false
   },
   "outputs": [
    {
     "data": {
      "image/png": "[encoded data removed]",
      "text/plain": [
       "<matplotlib.figure.Figure at 0x173556fd8d0>"
      ]
     },
     "metadata": {},
     "output_type": "display_data"
    }
   ],
   "source": [
    "plt.plot('U-B', 'Vmag', 'o', data=data, **style)\n",
    "plt.gca().invert_yaxis()\n",
    "plt.xlabel('U-B (mag)')\n",
    "plt.ylabel('V (mag)')\n",
    "plt.legend(loc='best', frameon=True)\n",
    "\n",
    "plt.gcf().set_size_inches(width, height)\n",
    "plt.tight_layout()\n",
    "plt.gcf().savefig('figs/u-b.pdf')"
   ]
  },
  {
   "cell_type": "code",
   "execution_count": 7,
   "metadata": {
    "collapsed": true
   },
   "outputs": [],
   "source": [
    "# hdulist.close()"
   ]
  },
  {
   "cell_type": "code",
   "execution_count": null,
   "metadata": {
    "collapsed": true
   },
   "outputs": [],
   "source": []
  }
 ],
 "metadata": {
  "kernelspec": {
   "display_name": "Python 3",
   "language": "python",
   "name": "python3"
  },
  "language_info": {
   "codemirror_mode": {
    "name": "ipython",
    "version": 3
   },
   "file_extension": ".py",
   "mimetype": "text/x-python",
   "name": "python",
   "nbconvert_exporter": "python",
   "pygments_lexer": "ipython3",
   "version": "3.6.0"
  }
 },
 "nbformat": 4,
 "nbformat_minor": 2
}
