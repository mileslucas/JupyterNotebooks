{
 "cells": [
  {
   "cell_type": "markdown",
   "metadata": {},
   "source": [
    "# Astro Project"
   ]
  },
  {
   "cell_type": "code",
   "execution_count": 12,
   "metadata": {
    "collapsed": false
   },
   "outputs": [],
   "source": [
    "# Imports and parameter setting\n",
    "\n",
    "import numpy as np\n",
    "import pandas as pd\n",
    "import matplotlib as mpl\n",
    "import matplotlib.pyplot as plt\n",
    "from astropy.io import fits\n",
    "\n",
    "%matplotlib inline\n",
    "plt.style.use('seaborn-notebook')\n",
    "width = 3.404\n",
    "height = width * 1\n",
    "params = {\n",
    "    'xtick.labelsize':8,\n",
    "    'ytick.labelsize':8,\n",
    "    'axes.labelsize':8,\n",
    "    'legend.fontsize':8,\n",
    "    'font.family':'serif',\n",
    "}\n",
    "mpl.rcParams.update(params)"
   ]
  },
  {
   "cell_type": "code",
   "execution_count": 13,
   "metadata": {
    "collapsed": false
   },
   "outputs": [],
   "source": [
    "# Get data\n",
    "try:\n",
    "    hdulist = fits.open('data/m35.fit')\n",
    "except FileNotFoundError:\n",
    "    print('Data file missing')"
   ]
  },
  {
   "cell_type": "code",
   "execution_count": 14,
   "metadata": {
    "collapsed": false
   },
   "outputs": [
    {
     "data": {
      "text/plain": [
       "XTENSION= 'BINTABLE'           / binary table extension                         \n",
       "BITPIX  =                    8 / 8-bit bytes                                    \n",
       "NAXIS   =                    2 / 2-dimensional table                            \n",
       "NAXIS1  =                   36 / width of table in bytes                        \n",
       "NAXIS2  =                 1150 / number of rows in table                        \n",
       "PCOUNT  =                    0 / size of special data area                      \n",
       "GCOUNT  =                    1 / one data group                                 \n",
       "TFIELDS =                    9 / number of columns                              \n",
       "EXTNAME = 'C:\\Users\\drumm\\Dropbox\\m35.fit#1' / table name                       \n",
       "TTYPE1  = '_RAJ2000'           / label for column 1                             \n",
       "TFORM1  = 'E       '           / format for column 1                            \n",
       "TUNIT1  = 'deg     '           / units for column 1                             \n",
       "TTYPE2  = '_DEJ2000'           / label for column 2                             \n",
       "TFORM2  = 'E       '           / format for column 2                            \n",
       "TUNIT2  = 'deg     '           / units for column 2                             \n",
       "TTYPE3  = 'Vmag    '           / label for column 3                             \n",
       "TFORM3  = 'E       '           / format for column 3                            \n",
       "TUNIT3  = 'mag     '           / units for column 3                             \n",
       "TTYPE4  = 'V-I     '           / label for column 4                             \n",
       "TFORM4  = 'E       '           / format for column 4                            \n",
       "TUNIT4  = 'mag     '           / units for column 4                             \n",
       "TTYPE5  = 'B-V     '           / label for column 5                             \n",
       "TFORM5  = 'E       '           / format for column 5                            \n",
       "TUNIT5  = 'mag     '           / units for column 5                             \n",
       "TTYPE6  = 'U-B     '           / label for column 6                             \n",
       "TFORM6  = 'E       '           / format for column 6                            \n",
       "TUNIT6  = 'mag     '           / units for column 6                             \n",
       "TTYPE7  = 'e_Vmag  '           / label for column 7                             \n",
       "TFORM7  = 'E       '           / format for column 7                            \n",
       "TUNIT7  = 'mag     '           / units for column 7                             \n",
       "TTYPE8  = 'e_V-I   '           / label for column 8                             \n",
       "TFORM8  = 'E       '           / format for column 8                            \n",
       "TUNIT8  = 'mag     '           / units for column 8                             \n",
       "TTYPE9  = 'e_B-V   '           / label for column 9                             \n",
       "TFORM9  = 'E       '           / format for column 9                            \n",
       "TUNIT9  = 'mag     '           / units for column 9                             \n",
       "DATE-HDU= '2017-04-17T04:03:07' / Date of HDU creation (UTC)                    \n",
       "STILVERS= '3.2     '           / Version of STIL software                       \n",
       "STILCLAS= 'uk.ac.starlink.votable.FitsPlusTableWriter' / Author class in STIL so"
      ]
     },
     "execution_count": 14,
     "metadata": {},
     "output_type": "execute_result"
    }
   ],
   "source": [
    "hdulist[1].header"
   ]
  },
  {
   "cell_type": "code",
   "execution_count": 15,
   "metadata": {
    "collapsed": false
   },
   "outputs": [],
   "source": [
    "data = pd.DataFrame(hdulist[1].data)"
   ]
  },
  {
   "cell_type": "code",
   "execution_count": 16,
   "metadata": {
    "collapsed": false
   },
   "outputs": [
    {
     "data": {
      "image/png": "[encoded data removed]",
      "text/plain": [
       "<matplotlib.figure.Figure at 0x26740a84470>"
      ]
     },
     "metadata": {},
     "output_type": "display_data"
    }
   ],
   "source": [
    "# plt.gca().invert_yaxis()\n",
    "# plt.plot(data['B-V'], data['Vmag'], 'o', markersize=2)\n",
    "ax = data.plot.scatter(x='B-V', y='Vmag', s=2, c='k')\n",
    "ax.invert_yaxis()\n",
    "ax.set_xlabel('B-V (mag)')\n",
    "ax.set_ylabel('V (mag)')\n",
    "\n",
    "\n",
    "plt.gcf().set_size_inches(width, height)\n",
    "plt.tight_layout()\n",
    "plt.gcf().savefig('figs/b-v.pdf')"
   ]
  },
  {
   "cell_type": "code",
   "execution_count": 17,
   "metadata": {
    "collapsed": false
   },
   "outputs": [
    {
     "data": {
      "image/png": "[encoded data removed]",
      "text/plain": [
       "<matplotlib.figure.Figure at 0x26740b97940>"
      ]
     },
     "metadata": {},
     "output_type": "display_data"
    }
   ],
   "source": [
    "ax = data.plot.scatter(x='V-I', y='Vmag', s=2, c='k')\n",
    "ax.invert_yaxis()\n",
    "ax.set_xlabel('V-I (mag)')\n",
    "ax.set_ylabel('V (mag)')\n",
    "\n",
    "plt.gcf().set_size_inches(width, height)\n",
    "plt.tight_layout()\n",
    "plt.gcf().savefig('figs/v-i.pdf')"
   ]
  },
  {
   "cell_type": "code",
   "execution_count": 18,
   "metadata": {
    "collapsed": false
   },
   "outputs": [
    {
     "data": {
      "image/png": "[encoded data removed]",
      "text/plain": [
       "<matplotlib.figure.Figure at 0x26740bb7b70>"
      ]
     },
     "metadata": {},
     "output_type": "display_data"
    }
   ],
   "source": [
    "ax = data.plot.scatter(x='U-B', y='Vmag', s=2, c='k')\n",
    "ax.invert_yaxis()\n",
    "ax.set_xlabel('U-B (mag)')\n",
    "ax.set_ylabel('V (mag)')\n",
    "\n",
    "plt.gcf().set_size_inches(width, height)\n",
    "plt.tight_layout()\n",
    "plt.gcf().savefig('figs/u-b.pdf')"
   ]
  },
  {
   "cell_type": "code",
   "execution_count": 19,
   "metadata": {
    "collapsed": true
   },
   "outputs": [],
   "source": [
    "hdulist.close()"
   ]
  },
  {
   "cell_type": "code",
   "execution_count": null,
   "metadata": {
    "collapsed": true
   },
   "outputs": [],
   "source": []
  }
 ],
 "metadata": {
  "kernelspec": {
   "display_name": "Python 3",
   "language": "python",
   "name": "python3"
  },
  "language_info": {
   "codemirror_mode": {
    "name": "ipython",
    "version": 3
   },
   "file_extension": ".py",
   "mimetype": "text/x-python",
   "name": "python",
   "nbconvert_exporter": "python",
   "pygments_lexer": "ipython3",
   "version": "3.6.0"
  }
 },
 "nbformat": 4,
 "nbformat_minor": 2
}
